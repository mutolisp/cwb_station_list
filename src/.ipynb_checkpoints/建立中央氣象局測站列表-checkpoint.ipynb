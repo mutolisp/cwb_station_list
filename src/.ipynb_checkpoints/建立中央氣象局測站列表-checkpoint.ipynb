{
 "cells": [
  {
   "cell_type": "markdown",
   "metadata": {
    "collapsed": true
   },
   "source": [
    "# 建立中央氣象局測站列表資料表\n",
    "\n",
    "## 目標\n",
    "\n",
    "將中央氣象局網頁上的氣象測站點位資料轉換成結構化的資料表，並轉成具有空間資訊的資料表及檔案格式。這樣有什麼好處呢？之後處理資料比較快，而且應用層面也比較廣\n",
    "\n",
    "## 必須具備的背景知識/技巧\n",
    "\n",
    "雖然說應該要有一些背景知識，但可以照著步驟仿效，再自己慢慢找資料學。底下兩項是基礎的技能\n",
    "\n",
    "* 資料庫(知道什麼是 table, constraints, etc.)\n",
    "    * 為了防止意外，我們使用 [transaction](https://www.postgresql.org/docs/9.5/static/sql-begin.html) 來處理 SQL command，也就是\n",
    "    \n",
    "      ```\n",
    "      1 BEGIN;\n",
    "      2 SQL\n",
    "      3 ...\n",
    "      4 COMMIT;\n",
    "      ```\n",
    "      \n",
    "* shell programming (case switch, EOF(end-of-file, stream text), i/o, sed/awk 這類的 stream editor)，但都不會太難，照範例做改一下就行了。\n",
    "    * ```#``` 開頭的為 shell script 的註解\n",
    "    * ```--``` 開頭的為 SQL 的註解\n",
    "    * EOF 的使用，用 ```cat > filename << _EOF ... _EOF```，中間包起來的文字會存進 ```filename``` 這個檔案中\n",
    "    ```\n",
    "    1 cat > filename << _EOF\n",
    "    2 \n",
    "    3 abc\n",
    "    4\n",
    "    5 _EOF\n",
    "    ```\n",
    "    例如上面的源碼中，我們把三行（空白行、abc、空白行)插入到 ```filename``` 中\n",
    "\n",
    "## 工具\n",
    "\n",
    "* [PostgreSQL](http://postgresql.org) / [PostGIS extension](http://postgis.net)\n",
    "  要先把 PostgreSQL 架好至少可以用\n",
    "* GNU utilities, such as sed, awk\n",
    "  在 windows 下面使用會有些痛苦，建議你可以用 [cygwin](https://www.cygwin.com) \n",
    "\n",
    "\n",
    "## 0. 看一下資料長什麼樣子\n",
    "\n",
    "網頁資料：\n",
    "http://e-service.cwb.gov.tw/wdps/obs/state.htm#%B2%7B%A6s%B4%FA%AF%B8\n",
    "\n",
    "Big5 編碼，用表格處理起來有點麻煩，所以乾脆貼到 LibreOffice 轉成 csv 檔(| 分隔)\n"
   ]
  },
  {
   "cell_type": "code",
   "execution_count": 1,
   "metadata": {
    "collapsed": false
   },
   "outputs": [
    {
     "name": "stdout",
     "output_type": "stream",
     "text": [
      "站號|站名|海拔高度(M)|經度|緯度|城市|地址|資料起始日期|撤站日期|備註|原站號|新站號\r\n",
      "466850|五分山雷達站|756|121.7812|25.0712|新北市|瑞芳區靜安路四段1巷1號|1988-07-01||本站只有雷達觀測資料。||\r\n",
      "466880|板橋|9.7|121.442|24.9976|新北市|板橋區大觀路二段265巷62號|1972-03-01||原為探空站，自2002年開始進行氣象觀測。||\r\n",
      "466900|淡水|19|121.4489|25.1649|新北市|淡水區中正東路42巷6號|1942-01-01||||\r\n",
      "466910|鞍部|825.8|121.5297|25.1826|臺北市|北投區陽明山竹子湖路111號|1937-01-01||||\r\n",
      "466920|臺北|6.3|121.5149|25.0377|臺北市|中正區公園路64號|1896-01-01||||\r\n",
      "466930|竹子湖|607.1|121.5445|25.1621|臺北市|北投區陽明山竹子湖路2號|1937-01-01||||\r\n",
      "466940|基隆|26.7|121.7405|25.1333|基隆市|仁愛區港西街6號6樓(海港大樓6樓)|1946-01-01||||\r\n",
      "466950|彭佳嶼|101.7|122.0797|25.628|基隆市|中正區彭佳嶼|1910-01-01||||\r\n",
      "466990|花蓮|16|121.6133|23.9751|花蓮縣|花蓮市花崗街24號|1910-01-01||||\r\n"
     ]
    }
   ],
   "source": [
    "# 現存測站資料\n",
    "head ../data/cwb_current_station_list.csv"
   ]
  },
  {
   "cell_type": "code",
   "execution_count": 2,
   "metadata": {
    "collapsed": false
   },
   "outputs": [
    {
     "name": "stdout",
     "output_type": "stream",
     "text": [
      "站號|站名|海拔高度(M)|經度|緯度|城市|地址|資料起始日期|撤站日期|備註|原站號|新站號\r\n",
      "466921|臺北(師院)|6.1|121.5132|25.0363|臺北市|中正區公園路|1992-02-01|1997-09-01|1997年9月遷回原址。||\r\n",
      "467411|臺南(永康)|8.1|120.2367|23.0384|臺南市|永康區中正南路654巷40弄1號|1988-05-01|2002-01-01|2002-01-01遷回臺南市。||\r\n",
      "467570|新竹|32.8|120.9776|24.8004|新竹市|公園路|1938-01-01|1991-07-01|1991-07站址遷往竹北。||\r\n",
      "467780|七股|2.9|120.0862|23.147|臺南市|七股區鹽埕237-11號|2001-11-01|2016-06-01|||\r\n",
      "C0A510|大豹|590|121.4215|24.8871|新北市|三峽區(三峽李山神宮附近)|1987-06-01|2009-05-16|||\r\n",
      "C0A590|大尖山|326|121.666|25.0515|新北市|汐止區勤進路|1987-06-01|2011-08-12|||\r\n",
      "C0A680|五股|95|121.435|25.0834|新北市|五股區248成泰路二段49巷15號(五股國中校園內)|2009-12-01|2016-07-02|原(C1A680)站因擴充為氣象站，於2009-12-1升級為(C0A680)站。|C1A680|\r\n",
      "C0A760|林口國中|250|121.3749|25.0815|新北市|林口區林口國中|1973-02-01|1987-12-01|||\r\n",
      "C0A930|三和|200|121.5941|25.2349|新北市|金山區兩湖里(距兩湖分校約300公尺)|1995-01-01|2014-03-20|因移位，於2014-4-1更變為(C0A931)站。||C0A931\r\n"
     ]
    }
   ],
   "source": [
    "# 撤站的資料\n",
    "head ../data/cwb_revoked_station_list.csv"
   ]
  },
  {
   "cell_type": "markdown",
   "metadata": {},
   "source": [
    "## 1. 清理資料\n",
    "\n",
    "把不要的半型空白和全型空白都去除，另外把日期整理成 ISO-8601 格式 (YYYY-mm-dd)。\n",
    "\n",
    "1.1 用 ```case``` 來做，```$1``` 代表輸入時的第一個參數，```$2``` 為第二個，以此類推。例如：\n",
    "```sh\n",
    "command a b\n",
    "```\n",
    "其中```$1``` 為 ```a```，而 ```$2``` 為 ```b```\n",
    "\n",
    "1.2 用 sed 來取代字串，那些全形半形的空白很惱人，所以先把它們都除掉"
   ]
  },
  {
   "cell_type": "code",
   "execution_count": 3,
   "metadata": {
    "collapsed": false
   },
   "outputs": [
    {
     "name": "stdout",
     "output_type": "stream",
     "text": []
    }
   ],
   "source": [
    "cat > ./cleandata.sh << __EOF\n",
    "#!/usr/bin/env sh\n",
    "\n",
    "case \"\\$1\" in\n",
    "    \"-c\")\n",
    "        # 取代半型空白\n",
    "        sed -i ''  's/ //g' \\$2\n",
    "        # 取代全形空白\n",
    "        sed -i ''  's/　//g' \\$2\n",
    "        echo \"clean up done!\"\n",
    "        ;;\n",
    "        \n",
    "    \"-d\")\n",
    "        # 把 YYYY/mm/dd 改成 ISO8601 格式(YYYY-mm-dd) \n",
    "        sed -i '' 's/\\//-/g' \\$2\n",
    "        echo \"substitution done!\"\n",
    "        ;;\n",
    "        \n",
    "    *)\n",
    "        echo \"Usage: cleandata.sh {-c|-d} filename\"\n",
    "        echo \"清理資料，把全/半形空白取代並且整理日期為 ISO 8601 格式(YYYY-mm-dd)\"\n",
    "        ;;\n",
    "esac\n",
    "__EOF"
   ]
  },
  {
   "cell_type": "code",
   "execution_count": 4,
   "metadata": {
    "collapsed": false
   },
   "outputs": [
    {
     "name": "stdout",
     "output_type": "stream",
     "text": [
      "clean up done!\r\n",
      "substitution done!\r\n"
     ]
    }
   ],
   "source": [
    "./cleandata.sh -c ../data/cwb_current_station_list.csv\n",
    "./cleandata.sh -d ../data/cwb_revoked_station_list.csv"
   ]
  },
  {
   "cell_type": "markdown",
   "metadata": {
    "collapsed": true
   },
   "source": [
    "## 2. 建立 postgresql Table"
   ]
  },
  {
   "cell_type": "code",
   "execution_count": 5,
   "metadata": {
    "collapsed": false
   },
   "outputs": [
    {
     "name": "stdout",
     "output_type": "stream",
     "text": [
      "DROP TABLE\r\n",
      "CREATE TABLE\r\n"
     ]
    }
   ],
   "source": [
    "# 設定變數，資料庫名稱為 nvdimp\n",
    "export DB=\"nvdimp\"\n",
    "# 用資料定義語言(Data definition language, DDL)來建立新的資料表(table)，資料表名稱為\n",
    "cat > create_station_list_table.sql << _EOF\n",
    "\n",
    "-- 如果 cwb_station_list 資料表存在的話，則刪除之\n",
    "DROP TABLE IF EXISTS cwb_station_list;\n",
    "CREATE TABLE public.cwb_station_list\n",
    "(\n",
    "  station_id character varying NOT NULL, -- 站號\n",
    "  station character varying, -- 站名\n",
    "  county character varying, -- 縣市\n",
    "  township character varying, -- 鄉鎮\n",
    "  longitude double precision, -- 經度\n",
    "  latitude double precision, -- 緯度\n",
    "  elevation double precision, -- 海拔高度\n",
    "  address character varying, -- 地址\n",
    "  establish_date date, -- 資料起始日期\n",
    "  revoke_date date, -- 撤站日期\n",
    "  note character varying, -- 備註\n",
    "  twd97x double precision, -- TWD97X 座標\n",
    "  twd97y double precision, -- TWD97Y 座標\n",
    "  geom_twd97 geometry(Point,3826), -- twd97 geometry column\n",
    "  geom_wgs84 geometry(Point,4326), -- wgs84 geometry column\n",
    "  station_type character varying, -- 測站類型\n",
    "  CONSTRAINT cwb_stations_pk PRIMARY KEY (station_id)\n",
    ")\n",
    "WITH (\n",
    "  OIDS=FALSE\n",
    ");\n",
    "_EOF\n",
    "\n",
    "# 建立資料表架構\n",
    "# nvdimp 為資料庫名稱\n",
    "psql -d ${DB} -f create_station_list_table.sql"
   ]
  },
  {
   "cell_type": "markdown",
   "metadata": {},
   "source": [
    "## 3. 餵資料進去 Table\n",
    "\n",
    "因為欄位順序不太一樣，所以先把測站的代碼(```station_id```)丟進去"
   ]
  },
  {
   "cell_type": "code",
   "execution_count": 6,
   "metadata": {
    "collapsed": false
   },
   "outputs": [
    {
     "name": "stdout",
     "output_type": "stream",
     "text": []
    }
   ],
   "source": [
    "# 先處理現存測站\n",
    "echo \"BEGIN;\" > insert_station_id_data.sql\n",
    "awk -v q=\"'\" -F'|' 'NR>1 { print \"INSERT INTO cwb_station_list (station_id) VALUES (\" q$1q \");\"}' \\\n",
    "  ../data/cwb_current_station_list.csv >> insert_station_id_data.sql\n",
    "echo \"COMMIT;\" >> insert_station_id_data.sql\n",
    "# execute sql\n",
    "psql -q -d ${DB} -f insert_station_id_data.sql"
   ]
  },
  {
   "cell_type": "markdown",
   "metadata": {},
   "source": [
    "餵其他資料進去，這邊使用\n",
    "```SQL\n",
    "UPDATE _table_ SET _column_name_ = _value_;\n",
    "```\n",
    "來將資料更新進去"
   ]
  },
  {
   "cell_type": "code",
   "execution_count": 8,
   "metadata": {
    "collapsed": false
   },
   "outputs": [
    {
     "name": "stdout",
     "output_type": "stream",
     "text": []
    }
   ],
   "source": [
    "# 欄位的位置編號對照\n",
    "# 站號|站名|海拔高度(M)|經度|緯度|城市|地址|資料起始日期|撤站日期|備註|原站號|新站號\n",
    "#   1   2     3        4    5   6   7    8           9     10   11   12\n",
    "# awk 中可以用 $number (number 為正整數) 代表欄位\n",
    "\n",
    "echo \"BEGIN;\" > update_station_data.sql\n",
    "awk -v q=\"'\" -F '|' \\\n",
    " 'NR>1 { print \"UPDATE cwb_station_list SET station=\" q$2q \\\n",
    "  \", elevation = \" $3 \\\n",
    "  \", longitude = \" $4 \\\n",
    "  \", latitude = \" $5 \\\n",
    "  \", county = \" q$6q \\\n",
    "  \", address = \" q$7q \\\n",
    "  \", establish_date = \" q$8q \\\n",
    "  \", note = \"q$10q \" WHERE station_id=\" q$1q \";\"}' \\\n",
    "  ../data/cwb_current_station_list.csv >> update_station_data.sql\n",
    "echo \"COMMIT;\" >> update_station_data.sql\n",
    "# 執行\n",
    "psql -q -d ${DB} -f update_station_data.sql"
   ]
  },
  {
   "cell_type": "markdown",
   "metadata": {},
   "source": [
    "## 4. 建立空間屬性的欄位\n",
    "\n",
    "接下來我們要把測站的經緯度建立具有空間屬性(spatial geometry)的資料表欄位，在上面 DDL 建立資料表時，已經建立了兩個欄位，```geom_wgs84``` 及 ```geom_twd97``` 兩個空間屬性欄位，分別是 WGS84 經緯度座標([EPSG:4326](http://spatialreference.org/ref/epsg/wgs-84/))以及臺灣使用的橫麥卡托投影二度分帶座標系統(即 TWD97 TM2 Zone 121, [EPSG:3826](http://spatialreference.org/ref/epsg/twd97-tm2-zone-121/)，以下使用 TWD97 來縮寫)。原始資料中提供的只有經緯度，為了方便之後的使用，所以我也同時轉換成 TWD97 的座標系統。\n",
    "\n",
    "使用的 PostGIS function:\n",
    "\n",
    "* [ST_SetSRID](http://postgis.net/docs/ST_SetSRID.html): 設定 SRID (spatial reference ID)\n",
    "* [ST_MakePoint](http://postgis.net/docs/ST_MakePoint.html): 將 x, y 座標建立具空間屬性的點位\n",
    "* [ST_Transform](http://postgis.net/docs/ST_Transform.html): 轉換不同的座標系統\n",
    "\n",
    "\n",
    "同樣的我們使用```UPDATE```加上 subquery 來更新資料：\n",
    "\n",
    "**<font style=\"color:red\">注意:測站資料若是在外島，像是金門、馬祖要另外處理成 TWD97 TM2 zone 119 的投影座標系統，\n",
    "在此先略過不提，但請記得這件事情</font> **"
   ]
  },
  {
   "cell_type": "code",
   "execution_count": 9,
   "metadata": {
    "collapsed": false
   },
   "outputs": [
    {
     "name": "stdout",
     "output_type": "stream",
     "text": [
      "BEGIN\r\n",
      "UPDATE 531\r\n",
      "COMMIT\r\n",
      "BEGIN\r\n",
      "UPDATE 531\r\n",
      "COMMIT\r\n"
     ]
    }
   ],
   "source": [
    "# 更新 geometry，先處理 WGS84\n",
    "cat > set_srid.sql << _EOF\n",
    "BEGIN;\n",
    "UPDATE \n",
    "    cwb_station_list \n",
    "    SET geom_wgs84 = s.wgs84 \n",
    "FROM \n",
    "    (SELECT station_id, st_setsrid(st_makepoint(longitude,latitude), 4326) wgs84 \n",
    "     FROM cwb_station_list) as s \n",
    "WHERE \n",
    "    cwb_station_list.station_id = s.station_id;\n",
    "COMMIT;\n",
    "-- 轉換座標系統\n",
    "BEGIN;\n",
    "UPDATE \n",
    "    cwb_station_list\n",
    "SET \n",
    "    geom_twd97 = st_transform(geom_wgs84, 3826);\n",
    "COMMIT;\n",
    "_EOF\n",
    "\n",
    "# 執行上面的 set_srid.sql\n",
    "psql -d ${DB} -f set_srid.sql"
   ]
  },
  {
   "cell_type": "markdown",
   "metadata": {},
   "source": [
    "接下來你可以用 QGIS 來看顯示的座標對不對（略）"
   ]
  },
  {
   "cell_type": "markdown",
   "metadata": {},
   "source": [
    "## 5. 轉成不同格式的檔案\n",
    "\n",
    "我們可以把資料 dump 成 SQL，或是轉成 ESRI shapefile, json 等格式"
   ]
  },
  {
   "cell_type": "code",
   "execution_count": 10,
   "metadata": {
    "collapsed": false
   },
   "outputs": [
    {
     "name": "stdout",
     "output_type": "stream",
     "text": []
    }
   ],
   "source": [
    "# pg_dump\n",
    "pg_dump -d ${DB} -O -t cwb_station_list > ../data/cwb_station_list.sql"
   ]
  },
  {
   "cell_type": "code",
   "execution_count": 11,
   "metadata": {
    "collapsed": false
   },
   "outputs": [
    {
     "name": "stdout",
     "output_type": "stream",
     "text": [
      "Initializing... \r\n",
      "Done (postgis major version: 2).\r\n",
      "Output shape: Point\r\n",
      "Dumping: XXXXXX [531 rows].\r\n",
      "Initializing... \r\n",
      "Done (postgis major version: 2).\r\n",
      "Output shape: Point\r\n",
      "Dumping: XXXXXX [531 rows].\r\n"
     ]
    }
   ],
   "source": [
    "# 轉成 ESRI Shapefile，分別轉成 wgs84 和 twd97 tm2 zone 121 \n",
    "# 先建立 shp 資料夾，這樣才不會看起來一堆檔案亂七八糟\n",
    "if [ ! -d ../data/shp ]; then\n",
    "    mkdir ../data/shp\n",
    "fi\n",
    "\n",
    "pgsql2shp -f ../data/shp/cwb_station_list_wgs84 -g geom_wgs84 nvdimp public.cwb_station_list \n",
    "pgsql2shp -f ../data/shp/cwb_station_list_twd97 -g geom_twd97 nvdimp public.cwb_station_list "
   ]
  },
  {
   "cell_type": "markdown",
   "metadata": {},
   "source": [
    "## 參考資料：\n",
    "[PostGIS manual](http://postgis.net/docs)"
   ]
  }
 ],
 "metadata": {
  "kernelspec": {
   "display_name": "Bash",
   "language": "bash",
   "name": "bash"
  },
  "language_info": {
   "codemirror_mode": "shell",
   "file_extension": ".sh",
   "mimetype": "text/x-sh",
   "name": "bash"
  }
 },
 "nbformat": 4,
 "nbformat_minor": 0
}
